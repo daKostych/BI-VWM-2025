{
 "cells": [
  {
   "cell_type": "code",
   "id": "initial_id",
   "metadata": {
    "collapsed": true,
    "ExecuteTime": {
     "end_time": "2025-03-18T17:13:41.085140Z",
     "start_time": "2025-03-18T17:13:17.208547Z"
    }
   },
   "source": [
    "import pandas as pd\n",
    "\n",
    "documents = pd.read_csv(\"datasets/documents.csv\")\n",
    "documents.info()"
   ],
   "outputs": [
    {
     "name": "stdout",
     "output_type": "stream",
     "text": [
      "<class 'pandas.core.frame.DataFrame'>\n",
      "RangeIndex: 463819 entries, 0 to 463818\n",
      "Data columns (total 2 columns):\n",
      " #   Column         Non-Null Count   Dtype \n",
      "---  ------         --------------   ----- \n",
      " 0   wikipedia_id   463819 non-null  object\n",
      " 1   document_text  463819 non-null  object\n",
      "dtypes: object(2)\n",
      "memory usage: 7.1+ MB\n"
     ]
    }
   ],
   "execution_count": 2
  },
  {
   "metadata": {
    "ExecuteTime": {
     "end_time": "2025-03-18T20:26:10.889562Z",
     "start_time": "2025-03-18T20:26:09.303466Z"
    }
   },
   "cell_type": "code",
   "source": [
    "import numpy as np\n",
    "\n",
    "random_index = np.random.randint(0, len(documents) - 2001)\n",
    "for i in range(100, 2001, 100):\n",
    "    reduced_documents = documents.iloc[random_index:random_index + i].reset_index(drop=True)\n",
    "    reduced_documents.to_csv(f\"datasets/documents{i}.csv\", index=False)"
   ],
   "id": "84843799802de692",
   "outputs": [],
   "execution_count": 9
  }
 ],
 "metadata": {
  "kernelspec": {
   "display_name": "Python 3",
   "language": "python",
   "name": "python3"
  },
  "language_info": {
   "codemirror_mode": {
    "name": "ipython",
    "version": 2
   },
   "file_extension": ".py",
   "mimetype": "text/x-python",
   "name": "python",
   "nbconvert_exporter": "python",
   "pygments_lexer": "ipython2",
   "version": "2.7.6"
  }
 },
 "nbformat": 4,
 "nbformat_minor": 5
}
