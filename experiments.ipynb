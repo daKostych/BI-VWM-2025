{
 "cells": [
  {
   "cell_type": "code",
   "id": "initial_id",
   "metadata": {
    "collapsed": true,
    "ExecuteTime": {
     "end_time": "2025-03-18T16:13:36.604545Z",
     "start_time": "2025-03-18T16:11:01.440238Z"
    }
   },
   "source": [
    "from src.document_db import DocumentsDB\n",
    "\n",
    "db = DocumentsDB()"
   ],
   "outputs": [
    {
     "name": "stderr",
     "output_type": "stream",
     "text": [
      "[nltk_data] Downloading package stopwords to /home/kanstantsin-\n",
      "[nltk_data]     downar/nltk_data...\n",
      "[nltk_data]   Package stopwords is already up-to-date!\n",
      "[nltk_data] Downloading package punkt_tab to /home/kanstantsin-\n",
      "[nltk_data]     downar/nltk_data...\n",
      "[nltk_data]   Package punkt_tab is already up-to-date!\n",
      "[nltk_data] Downloading package wordnet to /home/kanstantsin-\n",
      "[nltk_data]     downar/nltk_data...\n",
      "[nltk_data]   Package wordnet is already up-to-date!\n"
     ]
    }
   ],
   "execution_count": 1
  },
  {
   "metadata": {
    "ExecuteTime": {
     "end_time": "2025-03-18T16:15:28.950131Z",
     "start_time": "2025-03-18T16:15:28.860529Z"
    }
   },
   "cell_type": "code",
   "source": [
    "import numpy as np\n",
    "\n",
    "random_index = np.random.randint(0, 999)\n",
    "similar_documents = db.get_similar_documents(random_index, 3, print_results=True)"
   ],
   "id": "5189cd0d42b275ce",
   "outputs": [
    {
     "name": "stdout",
     "output_type": "stream",
     "text": [
      "[np.float64(0.744036441211144), np.float64(0.7369041983553627), np.float64(0.7213648100205806)]\n"
     ]
    }
   ],
   "execution_count": 107
  },
  {
   "metadata": {
    "ExecuteTime": {
     "end_time": "2025-03-18T16:13:36.935837Z",
     "start_time": "2025-03-18T16:13:36.931943Z"
    }
   },
   "cell_type": "code",
   "source": "",
   "id": "ef24eb2cccbb0ccb",
   "outputs": [],
   "execution_count": null
  }
 ],
 "metadata": {
  "kernelspec": {
   "display_name": "Python 3",
   "language": "python",
   "name": "python3"
  },
  "language_info": {
   "codemirror_mode": {
    "name": "ipython",
    "version": 2
   },
   "file_extension": ".py",
   "mimetype": "text/x-python",
   "name": "python",
   "nbconvert_exporter": "python",
   "pygments_lexer": "ipython2",
   "version": "2.7.6"
  }
 },
 "nbformat": 4,
 "nbformat_minor": 5
}
